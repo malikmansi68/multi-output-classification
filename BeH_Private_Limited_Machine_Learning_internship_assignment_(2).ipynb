{
  "cells": [
    {
      "cell_type": "markdown",
      "id": "7a97cf83",
      "metadata": {
        "id": "7a97cf83"
      },
      "source": [
        "# importing dependencies"
      ]
    },
    {
      "cell_type": "code",
      "execution_count": 1,
      "id": "246ca919",
      "metadata": {
        "id": "246ca919"
      },
      "outputs": [],
      "source": [
        "import pandas as pd\n",
        "from sklearn.feature_extraction.text import TfidfVectorizer\n",
        "from sklearn.model_selection import train_test_split\n",
        "from sklearn.linear_model import LogisticRegression\n",
        "from sklearn.metrics import accuracy_score\n"
      ]
    },
    {
      "cell_type": "markdown",
      "id": "719f2eeb",
      "metadata": {
        "id": "719f2eeb"
      },
      "source": [
        "reading the dataset into pandas dataframe"
      ]
    },
    {
      "cell_type": "code",
      "execution_count": 2,
      "id": "f337482a",
      "metadata": {
        "id": "f337482a"
      },
      "outputs": [],
      "source": [
        "df=pd.read_csv(\"training.data.csv\")"
      ]
    },
    {
      "cell_type": "code",
      "execution_count": 3,
      "id": "84876572",
      "metadata": {
        "colab": {
          "base_uri": "https://localhost:8080/",
          "height": 287
        },
        "id": "84876572",
        "outputId": "37d58f6e-2a39-490f-d220-7622390eb6dd"
      },
      "outputs": [
        {
          "output_type": "execute_result",
          "data": {
            "text/plain": [
              "  label   CLASS                                               TEXT  \\\n",
              "0  DESC  manner          HowdidserfdomdevelopinandthenleaveRussia?   \n",
              "1  ABBR     exp                           Whatisthefullformof.com?   \n",
              "2   HUM     ind  Whatcontemptiblescoundrelstolethecorkfrommylunch?   \n",
              "3   HUM   title                         Whatistheoldestprofession?   \n",
              "4  DESC     def                               Whatareliverenzymes?   \n",
              "\n",
              "   Unnamed: 3  Unnamed: 4  Unnamed: 5  Unnamed: 6  Unnamed: 7  Unnamed: 8  \\\n",
              "0         NaN         NaN         NaN         NaN         NaN         NaN   \n",
              "1         NaN         NaN         NaN         NaN         NaN         NaN   \n",
              "2         NaN         NaN         NaN         NaN         NaN         NaN   \n",
              "3         NaN         NaN         NaN         NaN         NaN         NaN   \n",
              "4         NaN         NaN         NaN         NaN         NaN         NaN   \n",
              "\n",
              "   Unnamed: 9  Unnamed: 10  Unnamed: 11  Unnamed: 12  Unnamed: 13  \\\n",
              "0         NaN          NaN          NaN          NaN          NaN   \n",
              "1         NaN          NaN          NaN          NaN          NaN   \n",
              "2         NaN          NaN          NaN          NaN          NaN   \n",
              "3         NaN          NaN          NaN          NaN          NaN   \n",
              "4         NaN          NaN          NaN          NaN          NaN   \n",
              "\n",
              "   Unnamed: 14  Unnamed: 15  Unnamed: 16  Unnamed: 17  \n",
              "0          NaN          NaN          NaN          NaN  \n",
              "1          NaN          NaN          NaN          NaN  \n",
              "2          NaN          NaN          NaN          NaN  \n",
              "3          NaN          NaN          NaN          NaN  \n",
              "4          NaN          NaN          NaN          NaN  "
            ],
            "text/html": [
              "\n",
              "  <div id=\"df-b4e9d2d3-bb03-4433-8d95-876ce2a138d6\">\n",
              "    <div class=\"colab-df-container\">\n",
              "      <div>\n",
              "<style scoped>\n",
              "    .dataframe tbody tr th:only-of-type {\n",
              "        vertical-align: middle;\n",
              "    }\n",
              "\n",
              "    .dataframe tbody tr th {\n",
              "        vertical-align: top;\n",
              "    }\n",
              "\n",
              "    .dataframe thead th {\n",
              "        text-align: right;\n",
              "    }\n",
              "</style>\n",
              "<table border=\"1\" class=\"dataframe\">\n",
              "  <thead>\n",
              "    <tr style=\"text-align: right;\">\n",
              "      <th></th>\n",
              "      <th>label</th>\n",
              "      <th>CLASS</th>\n",
              "      <th>TEXT</th>\n",
              "      <th>Unnamed: 3</th>\n",
              "      <th>Unnamed: 4</th>\n",
              "      <th>Unnamed: 5</th>\n",
              "      <th>Unnamed: 6</th>\n",
              "      <th>Unnamed: 7</th>\n",
              "      <th>Unnamed: 8</th>\n",
              "      <th>Unnamed: 9</th>\n",
              "      <th>Unnamed: 10</th>\n",
              "      <th>Unnamed: 11</th>\n",
              "      <th>Unnamed: 12</th>\n",
              "      <th>Unnamed: 13</th>\n",
              "      <th>Unnamed: 14</th>\n",
              "      <th>Unnamed: 15</th>\n",
              "      <th>Unnamed: 16</th>\n",
              "      <th>Unnamed: 17</th>\n",
              "    </tr>\n",
              "  </thead>\n",
              "  <tbody>\n",
              "    <tr>\n",
              "      <th>0</th>\n",
              "      <td>DESC</td>\n",
              "      <td>manner</td>\n",
              "      <td>HowdidserfdomdevelopinandthenleaveRussia?</td>\n",
              "      <td>NaN</td>\n",
              "      <td>NaN</td>\n",
              "      <td>NaN</td>\n",
              "      <td>NaN</td>\n",
              "      <td>NaN</td>\n",
              "      <td>NaN</td>\n",
              "      <td>NaN</td>\n",
              "      <td>NaN</td>\n",
              "      <td>NaN</td>\n",
              "      <td>NaN</td>\n",
              "      <td>NaN</td>\n",
              "      <td>NaN</td>\n",
              "      <td>NaN</td>\n",
              "      <td>NaN</td>\n",
              "      <td>NaN</td>\n",
              "    </tr>\n",
              "    <tr>\n",
              "      <th>1</th>\n",
              "      <td>ABBR</td>\n",
              "      <td>exp</td>\n",
              "      <td>Whatisthefullformof.com?</td>\n",
              "      <td>NaN</td>\n",
              "      <td>NaN</td>\n",
              "      <td>NaN</td>\n",
              "      <td>NaN</td>\n",
              "      <td>NaN</td>\n",
              "      <td>NaN</td>\n",
              "      <td>NaN</td>\n",
              "      <td>NaN</td>\n",
              "      <td>NaN</td>\n",
              "      <td>NaN</td>\n",
              "      <td>NaN</td>\n",
              "      <td>NaN</td>\n",
              "      <td>NaN</td>\n",
              "      <td>NaN</td>\n",
              "      <td>NaN</td>\n",
              "    </tr>\n",
              "    <tr>\n",
              "      <th>2</th>\n",
              "      <td>HUM</td>\n",
              "      <td>ind</td>\n",
              "      <td>Whatcontemptiblescoundrelstolethecorkfrommylunch?</td>\n",
              "      <td>NaN</td>\n",
              "      <td>NaN</td>\n",
              "      <td>NaN</td>\n",
              "      <td>NaN</td>\n",
              "      <td>NaN</td>\n",
              "      <td>NaN</td>\n",
              "      <td>NaN</td>\n",
              "      <td>NaN</td>\n",
              "      <td>NaN</td>\n",
              "      <td>NaN</td>\n",
              "      <td>NaN</td>\n",
              "      <td>NaN</td>\n",
              "      <td>NaN</td>\n",
              "      <td>NaN</td>\n",
              "      <td>NaN</td>\n",
              "    </tr>\n",
              "    <tr>\n",
              "      <th>3</th>\n",
              "      <td>HUM</td>\n",
              "      <td>title</td>\n",
              "      <td>Whatistheoldestprofession?</td>\n",
              "      <td>NaN</td>\n",
              "      <td>NaN</td>\n",
              "      <td>NaN</td>\n",
              "      <td>NaN</td>\n",
              "      <td>NaN</td>\n",
              "      <td>NaN</td>\n",
              "      <td>NaN</td>\n",
              "      <td>NaN</td>\n",
              "      <td>NaN</td>\n",
              "      <td>NaN</td>\n",
              "      <td>NaN</td>\n",
              "      <td>NaN</td>\n",
              "      <td>NaN</td>\n",
              "      <td>NaN</td>\n",
              "      <td>NaN</td>\n",
              "    </tr>\n",
              "    <tr>\n",
              "      <th>4</th>\n",
              "      <td>DESC</td>\n",
              "      <td>def</td>\n",
              "      <td>Whatareliverenzymes?</td>\n",
              "      <td>NaN</td>\n",
              "      <td>NaN</td>\n",
              "      <td>NaN</td>\n",
              "      <td>NaN</td>\n",
              "      <td>NaN</td>\n",
              "      <td>NaN</td>\n",
              "      <td>NaN</td>\n",
              "      <td>NaN</td>\n",
              "      <td>NaN</td>\n",
              "      <td>NaN</td>\n",
              "      <td>NaN</td>\n",
              "      <td>NaN</td>\n",
              "      <td>NaN</td>\n",
              "      <td>NaN</td>\n",
              "      <td>NaN</td>\n",
              "    </tr>\n",
              "  </tbody>\n",
              "</table>\n",
              "</div>\n",
              "      <button class=\"colab-df-convert\" onclick=\"convertToInteractive('df-b4e9d2d3-bb03-4433-8d95-876ce2a138d6')\"\n",
              "              title=\"Convert this dataframe to an interactive table.\"\n",
              "              style=\"display:none;\">\n",
              "        \n",
              "  <svg xmlns=\"http://www.w3.org/2000/svg\" height=\"24px\"viewBox=\"0 0 24 24\"\n",
              "       width=\"24px\">\n",
              "    <path d=\"M0 0h24v24H0V0z\" fill=\"none\"/>\n",
              "    <path d=\"M18.56 5.44l.94 2.06.94-2.06 2.06-.94-2.06-.94-.94-2.06-.94 2.06-2.06.94zm-11 1L8.5 8.5l.94-2.06 2.06-.94-2.06-.94L8.5 2.5l-.94 2.06-2.06.94zm10 10l.94 2.06.94-2.06 2.06-.94-2.06-.94-.94-2.06-.94 2.06-2.06.94z\"/><path d=\"M17.41 7.96l-1.37-1.37c-.4-.4-.92-.59-1.43-.59-.52 0-1.04.2-1.43.59L10.3 9.45l-7.72 7.72c-.78.78-.78 2.05 0 2.83L4 21.41c.39.39.9.59 1.41.59.51 0 1.02-.2 1.41-.59l7.78-7.78 2.81-2.81c.8-.78.8-2.07 0-2.86zM5.41 20L4 18.59l7.72-7.72 1.47 1.35L5.41 20z\"/>\n",
              "  </svg>\n",
              "      </button>\n",
              "      \n",
              "  <style>\n",
              "    .colab-df-container {\n",
              "      display:flex;\n",
              "      flex-wrap:wrap;\n",
              "      gap: 12px;\n",
              "    }\n",
              "\n",
              "    .colab-df-convert {\n",
              "      background-color: #E8F0FE;\n",
              "      border: none;\n",
              "      border-radius: 50%;\n",
              "      cursor: pointer;\n",
              "      display: none;\n",
              "      fill: #1967D2;\n",
              "      height: 32px;\n",
              "      padding: 0 0 0 0;\n",
              "      width: 32px;\n",
              "    }\n",
              "\n",
              "    .colab-df-convert:hover {\n",
              "      background-color: #E2EBFA;\n",
              "      box-shadow: 0px 1px 2px rgba(60, 64, 67, 0.3), 0px 1px 3px 1px rgba(60, 64, 67, 0.15);\n",
              "      fill: #174EA6;\n",
              "    }\n",
              "\n",
              "    [theme=dark] .colab-df-convert {\n",
              "      background-color: #3B4455;\n",
              "      fill: #D2E3FC;\n",
              "    }\n",
              "\n",
              "    [theme=dark] .colab-df-convert:hover {\n",
              "      background-color: #434B5C;\n",
              "      box-shadow: 0px 1px 3px 1px rgba(0, 0, 0, 0.15);\n",
              "      filter: drop-shadow(0px 1px 2px rgba(0, 0, 0, 0.3));\n",
              "      fill: #FFFFFF;\n",
              "    }\n",
              "  </style>\n",
              "\n",
              "      <script>\n",
              "        const buttonEl =\n",
              "          document.querySelector('#df-b4e9d2d3-bb03-4433-8d95-876ce2a138d6 button.colab-df-convert');\n",
              "        buttonEl.style.display =\n",
              "          google.colab.kernel.accessAllowed ? 'block' : 'none';\n",
              "\n",
              "        async function convertToInteractive(key) {\n",
              "          const element = document.querySelector('#df-b4e9d2d3-bb03-4433-8d95-876ce2a138d6');\n",
              "          const dataTable =\n",
              "            await google.colab.kernel.invokeFunction('convertToInteractive',\n",
              "                                                     [key], {});\n",
              "          if (!dataTable) return;\n",
              "\n",
              "          const docLinkHtml = 'Like what you see? Visit the ' +\n",
              "            '<a target=\"_blank\" href=https://colab.research.google.com/notebooks/data_table.ipynb>data table notebook</a>'\n",
              "            + ' to learn more about interactive tables.';\n",
              "          element.innerHTML = '';\n",
              "          dataTable['output_type'] = 'display_data';\n",
              "          await google.colab.output.renderOutput(dataTable, element);\n",
              "          const docLink = document.createElement('div');\n",
              "          docLink.innerHTML = docLinkHtml;\n",
              "          element.appendChild(docLink);\n",
              "        }\n",
              "      </script>\n",
              "    </div>\n",
              "  </div>\n",
              "  "
            ]
          },
          "metadata": {},
          "execution_count": 3
        }
      ],
      "source": [
        "df.head()\n"
      ]
    },
    {
      "cell_type": "code",
      "execution_count": 4,
      "id": "df7a151b",
      "metadata": {
        "id": "df7a151b"
      },
      "outputs": [],
      "source": [
        "df.drop(df.columns[[3, 4, 5,6,7,8,9,10,11,12,13,14,15,16,17]], axis = 1, inplace = True)"
      ]
    },
    {
      "cell_type": "code",
      "execution_count": 5,
      "id": "bb8c39c5",
      "metadata": {
        "colab": {
          "base_uri": "https://localhost:8080/",
          "height": 206
        },
        "id": "bb8c39c5",
        "outputId": "a63a469b-2f1a-4bba-832f-64e759f08e9f"
      },
      "outputs": [
        {
          "output_type": "execute_result",
          "data": {
            "text/plain": [
              "  label   CLASS                                               TEXT\n",
              "0  DESC  manner          HowdidserfdomdevelopinandthenleaveRussia?\n",
              "1  ABBR     exp                           Whatisthefullformof.com?\n",
              "2   HUM     ind  Whatcontemptiblescoundrelstolethecorkfrommylunch?\n",
              "3   HUM   title                         Whatistheoldestprofession?\n",
              "4  DESC     def                               Whatareliverenzymes?"
            ],
            "text/html": [
              "\n",
              "  <div id=\"df-e6fc8ba5-f542-495c-ae26-0bf0aa1009da\">\n",
              "    <div class=\"colab-df-container\">\n",
              "      <div>\n",
              "<style scoped>\n",
              "    .dataframe tbody tr th:only-of-type {\n",
              "        vertical-align: middle;\n",
              "    }\n",
              "\n",
              "    .dataframe tbody tr th {\n",
              "        vertical-align: top;\n",
              "    }\n",
              "\n",
              "    .dataframe thead th {\n",
              "        text-align: right;\n",
              "    }\n",
              "</style>\n",
              "<table border=\"1\" class=\"dataframe\">\n",
              "  <thead>\n",
              "    <tr style=\"text-align: right;\">\n",
              "      <th></th>\n",
              "      <th>label</th>\n",
              "      <th>CLASS</th>\n",
              "      <th>TEXT</th>\n",
              "    </tr>\n",
              "  </thead>\n",
              "  <tbody>\n",
              "    <tr>\n",
              "      <th>0</th>\n",
              "      <td>DESC</td>\n",
              "      <td>manner</td>\n",
              "      <td>HowdidserfdomdevelopinandthenleaveRussia?</td>\n",
              "    </tr>\n",
              "    <tr>\n",
              "      <th>1</th>\n",
              "      <td>ABBR</td>\n",
              "      <td>exp</td>\n",
              "      <td>Whatisthefullformof.com?</td>\n",
              "    </tr>\n",
              "    <tr>\n",
              "      <th>2</th>\n",
              "      <td>HUM</td>\n",
              "      <td>ind</td>\n",
              "      <td>Whatcontemptiblescoundrelstolethecorkfrommylunch?</td>\n",
              "    </tr>\n",
              "    <tr>\n",
              "      <th>3</th>\n",
              "      <td>HUM</td>\n",
              "      <td>title</td>\n",
              "      <td>Whatistheoldestprofession?</td>\n",
              "    </tr>\n",
              "    <tr>\n",
              "      <th>4</th>\n",
              "      <td>DESC</td>\n",
              "      <td>def</td>\n",
              "      <td>Whatareliverenzymes?</td>\n",
              "    </tr>\n",
              "  </tbody>\n",
              "</table>\n",
              "</div>\n",
              "      <button class=\"colab-df-convert\" onclick=\"convertToInteractive('df-e6fc8ba5-f542-495c-ae26-0bf0aa1009da')\"\n",
              "              title=\"Convert this dataframe to an interactive table.\"\n",
              "              style=\"display:none;\">\n",
              "        \n",
              "  <svg xmlns=\"http://www.w3.org/2000/svg\" height=\"24px\"viewBox=\"0 0 24 24\"\n",
              "       width=\"24px\">\n",
              "    <path d=\"M0 0h24v24H0V0z\" fill=\"none\"/>\n",
              "    <path d=\"M18.56 5.44l.94 2.06.94-2.06 2.06-.94-2.06-.94-.94-2.06-.94 2.06-2.06.94zm-11 1L8.5 8.5l.94-2.06 2.06-.94-2.06-.94L8.5 2.5l-.94 2.06-2.06.94zm10 10l.94 2.06.94-2.06 2.06-.94-2.06-.94-.94-2.06-.94 2.06-2.06.94z\"/><path d=\"M17.41 7.96l-1.37-1.37c-.4-.4-.92-.59-1.43-.59-.52 0-1.04.2-1.43.59L10.3 9.45l-7.72 7.72c-.78.78-.78 2.05 0 2.83L4 21.41c.39.39.9.59 1.41.59.51 0 1.02-.2 1.41-.59l7.78-7.78 2.81-2.81c.8-.78.8-2.07 0-2.86zM5.41 20L4 18.59l7.72-7.72 1.47 1.35L5.41 20z\"/>\n",
              "  </svg>\n",
              "      </button>\n",
              "      \n",
              "  <style>\n",
              "    .colab-df-container {\n",
              "      display:flex;\n",
              "      flex-wrap:wrap;\n",
              "      gap: 12px;\n",
              "    }\n",
              "\n",
              "    .colab-df-convert {\n",
              "      background-color: #E8F0FE;\n",
              "      border: none;\n",
              "      border-radius: 50%;\n",
              "      cursor: pointer;\n",
              "      display: none;\n",
              "      fill: #1967D2;\n",
              "      height: 32px;\n",
              "      padding: 0 0 0 0;\n",
              "      width: 32px;\n",
              "    }\n",
              "\n",
              "    .colab-df-convert:hover {\n",
              "      background-color: #E2EBFA;\n",
              "      box-shadow: 0px 1px 2px rgba(60, 64, 67, 0.3), 0px 1px 3px 1px rgba(60, 64, 67, 0.15);\n",
              "      fill: #174EA6;\n",
              "    }\n",
              "\n",
              "    [theme=dark] .colab-df-convert {\n",
              "      background-color: #3B4455;\n",
              "      fill: #D2E3FC;\n",
              "    }\n",
              "\n",
              "    [theme=dark] .colab-df-convert:hover {\n",
              "      background-color: #434B5C;\n",
              "      box-shadow: 0px 1px 3px 1px rgba(0, 0, 0, 0.15);\n",
              "      filter: drop-shadow(0px 1px 2px rgba(0, 0, 0, 0.3));\n",
              "      fill: #FFFFFF;\n",
              "    }\n",
              "  </style>\n",
              "\n",
              "      <script>\n",
              "        const buttonEl =\n",
              "          document.querySelector('#df-e6fc8ba5-f542-495c-ae26-0bf0aa1009da button.colab-df-convert');\n",
              "        buttonEl.style.display =\n",
              "          google.colab.kernel.accessAllowed ? 'block' : 'none';\n",
              "\n",
              "        async function convertToInteractive(key) {\n",
              "          const element = document.querySelector('#df-e6fc8ba5-f542-495c-ae26-0bf0aa1009da');\n",
              "          const dataTable =\n",
              "            await google.colab.kernel.invokeFunction('convertToInteractive',\n",
              "                                                     [key], {});\n",
              "          if (!dataTable) return;\n",
              "\n",
              "          const docLinkHtml = 'Like what you see? Visit the ' +\n",
              "            '<a target=\"_blank\" href=https://colab.research.google.com/notebooks/data_table.ipynb>data table notebook</a>'\n",
              "            + ' to learn more about interactive tables.';\n",
              "          element.innerHTML = '';\n",
              "          dataTable['output_type'] = 'display_data';\n",
              "          await google.colab.output.renderOutput(dataTable, element);\n",
              "          const docLink = document.createElement('div');\n",
              "          docLink.innerHTML = docLinkHtml;\n",
              "          element.appendChild(docLink);\n",
              "        }\n",
              "      </script>\n",
              "    </div>\n",
              "  </div>\n",
              "  "
            ]
          },
          "metadata": {},
          "execution_count": 5
        }
      ],
      "source": [
        "df.head()"
      ]
    },
    {
      "cell_type": "code",
      "execution_count": 6,
      "id": "8daf44c6",
      "metadata": {
        "colab": {
          "base_uri": "https://localhost:8080/",
          "height": 206
        },
        "id": "8daf44c6",
        "outputId": "5dc9de43-2d3a-440c-c0aa-ebe15d3380b6"
      },
      "outputs": [
        {
          "output_type": "execute_result",
          "data": {
            "text/plain": [
              "      label     CLASS                              TEXT\n",
              "11705  ENTY  currency  WhattypeofcurrencyisusedinChina?\n",
              "11706   NUM      temp        Whatisthetemperaturetoday?\n",
              "11707   NUM      temp   Whatisthetemperatureforcooking?\n",
              "11708  ENTY  currency    WhatcurrencyisusedinAustralia?\n",
              "11709   NaN       NaN                               NaN"
            ],
            "text/html": [
              "\n",
              "  <div id=\"df-f08e9975-6991-4cbc-9a75-effc4b280eb0\">\n",
              "    <div class=\"colab-df-container\">\n",
              "      <div>\n",
              "<style scoped>\n",
              "    .dataframe tbody tr th:only-of-type {\n",
              "        vertical-align: middle;\n",
              "    }\n",
              "\n",
              "    .dataframe tbody tr th {\n",
              "        vertical-align: top;\n",
              "    }\n",
              "\n",
              "    .dataframe thead th {\n",
              "        text-align: right;\n",
              "    }\n",
              "</style>\n",
              "<table border=\"1\" class=\"dataframe\">\n",
              "  <thead>\n",
              "    <tr style=\"text-align: right;\">\n",
              "      <th></th>\n",
              "      <th>label</th>\n",
              "      <th>CLASS</th>\n",
              "      <th>TEXT</th>\n",
              "    </tr>\n",
              "  </thead>\n",
              "  <tbody>\n",
              "    <tr>\n",
              "      <th>11705</th>\n",
              "      <td>ENTY</td>\n",
              "      <td>currency</td>\n",
              "      <td>WhattypeofcurrencyisusedinChina?</td>\n",
              "    </tr>\n",
              "    <tr>\n",
              "      <th>11706</th>\n",
              "      <td>NUM</td>\n",
              "      <td>temp</td>\n",
              "      <td>Whatisthetemperaturetoday?</td>\n",
              "    </tr>\n",
              "    <tr>\n",
              "      <th>11707</th>\n",
              "      <td>NUM</td>\n",
              "      <td>temp</td>\n",
              "      <td>Whatisthetemperatureforcooking?</td>\n",
              "    </tr>\n",
              "    <tr>\n",
              "      <th>11708</th>\n",
              "      <td>ENTY</td>\n",
              "      <td>currency</td>\n",
              "      <td>WhatcurrencyisusedinAustralia?</td>\n",
              "    </tr>\n",
              "    <tr>\n",
              "      <th>11709</th>\n",
              "      <td>NaN</td>\n",
              "      <td>NaN</td>\n",
              "      <td>NaN</td>\n",
              "    </tr>\n",
              "  </tbody>\n",
              "</table>\n",
              "</div>\n",
              "      <button class=\"colab-df-convert\" onclick=\"convertToInteractive('df-f08e9975-6991-4cbc-9a75-effc4b280eb0')\"\n",
              "              title=\"Convert this dataframe to an interactive table.\"\n",
              "              style=\"display:none;\">\n",
              "        \n",
              "  <svg xmlns=\"http://www.w3.org/2000/svg\" height=\"24px\"viewBox=\"0 0 24 24\"\n",
              "       width=\"24px\">\n",
              "    <path d=\"M0 0h24v24H0V0z\" fill=\"none\"/>\n",
              "    <path d=\"M18.56 5.44l.94 2.06.94-2.06 2.06-.94-2.06-.94-.94-2.06-.94 2.06-2.06.94zm-11 1L8.5 8.5l.94-2.06 2.06-.94-2.06-.94L8.5 2.5l-.94 2.06-2.06.94zm10 10l.94 2.06.94-2.06 2.06-.94-2.06-.94-.94-2.06-.94 2.06-2.06.94z\"/><path d=\"M17.41 7.96l-1.37-1.37c-.4-.4-.92-.59-1.43-.59-.52 0-1.04.2-1.43.59L10.3 9.45l-7.72 7.72c-.78.78-.78 2.05 0 2.83L4 21.41c.39.39.9.59 1.41.59.51 0 1.02-.2 1.41-.59l7.78-7.78 2.81-2.81c.8-.78.8-2.07 0-2.86zM5.41 20L4 18.59l7.72-7.72 1.47 1.35L5.41 20z\"/>\n",
              "  </svg>\n",
              "      </button>\n",
              "      \n",
              "  <style>\n",
              "    .colab-df-container {\n",
              "      display:flex;\n",
              "      flex-wrap:wrap;\n",
              "      gap: 12px;\n",
              "    }\n",
              "\n",
              "    .colab-df-convert {\n",
              "      background-color: #E8F0FE;\n",
              "      border: none;\n",
              "      border-radius: 50%;\n",
              "      cursor: pointer;\n",
              "      display: none;\n",
              "      fill: #1967D2;\n",
              "      height: 32px;\n",
              "      padding: 0 0 0 0;\n",
              "      width: 32px;\n",
              "    }\n",
              "\n",
              "    .colab-df-convert:hover {\n",
              "      background-color: #E2EBFA;\n",
              "      box-shadow: 0px 1px 2px rgba(60, 64, 67, 0.3), 0px 1px 3px 1px rgba(60, 64, 67, 0.15);\n",
              "      fill: #174EA6;\n",
              "    }\n",
              "\n",
              "    [theme=dark] .colab-df-convert {\n",
              "      background-color: #3B4455;\n",
              "      fill: #D2E3FC;\n",
              "    }\n",
              "\n",
              "    [theme=dark] .colab-df-convert:hover {\n",
              "      background-color: #434B5C;\n",
              "      box-shadow: 0px 1px 3px 1px rgba(0, 0, 0, 0.15);\n",
              "      filter: drop-shadow(0px 1px 2px rgba(0, 0, 0, 0.3));\n",
              "      fill: #FFFFFF;\n",
              "    }\n",
              "  </style>\n",
              "\n",
              "      <script>\n",
              "        const buttonEl =\n",
              "          document.querySelector('#df-f08e9975-6991-4cbc-9a75-effc4b280eb0 button.colab-df-convert');\n",
              "        buttonEl.style.display =\n",
              "          google.colab.kernel.accessAllowed ? 'block' : 'none';\n",
              "\n",
              "        async function convertToInteractive(key) {\n",
              "          const element = document.querySelector('#df-f08e9975-6991-4cbc-9a75-effc4b280eb0');\n",
              "          const dataTable =\n",
              "            await google.colab.kernel.invokeFunction('convertToInteractive',\n",
              "                                                     [key], {});\n",
              "          if (!dataTable) return;\n",
              "\n",
              "          const docLinkHtml = 'Like what you see? Visit the ' +\n",
              "            '<a target=\"_blank\" href=https://colab.research.google.com/notebooks/data_table.ipynb>data table notebook</a>'\n",
              "            + ' to learn more about interactive tables.';\n",
              "          element.innerHTML = '';\n",
              "          dataTable['output_type'] = 'display_data';\n",
              "          await google.colab.output.renderOutput(dataTable, element);\n",
              "          const docLink = document.createElement('div');\n",
              "          docLink.innerHTML = docLinkHtml;\n",
              "          element.appendChild(docLink);\n",
              "        }\n",
              "      </script>\n",
              "    </div>\n",
              "  </div>\n",
              "  "
            ]
          },
          "metadata": {},
          "execution_count": 6
        }
      ],
      "source": [
        "df.tail()"
      ]
    },
    {
      "cell_type": "markdown",
      "id": "de473e32",
      "metadata": {
        "id": "de473e32"
      },
      "source": [
        "the name of column describes what they contain "
      ]
    },
    {
      "cell_type": "code",
      "execution_count": 7,
      "id": "5d430da4",
      "metadata": {
        "colab": {
          "base_uri": "https://localhost:8080/",
          "height": 175
        },
        "id": "5d430da4",
        "outputId": "66bef92a-cfe8-4fca-faf4-097b1eaa9111"
      },
      "outputs": [
        {
          "output_type": "execute_result",
          "data": {
            "text/plain": [
              "        label  CLASS                                  TEXT\n",
              "count   11709  11709                                 11709\n",
              "unique      6     47                                  4124\n",
              "top      ENTY    ind  WhatisthespeedoftheMississippiRiver?\n",
              "freq     2764   2058                                    15"
            ],
            "text/html": [
              "\n",
              "  <div id=\"df-6dab667a-afff-4a25-abea-c8285541e2aa\">\n",
              "    <div class=\"colab-df-container\">\n",
              "      <div>\n",
              "<style scoped>\n",
              "    .dataframe tbody tr th:only-of-type {\n",
              "        vertical-align: middle;\n",
              "    }\n",
              "\n",
              "    .dataframe tbody tr th {\n",
              "        vertical-align: top;\n",
              "    }\n",
              "\n",
              "    .dataframe thead th {\n",
              "        text-align: right;\n",
              "    }\n",
              "</style>\n",
              "<table border=\"1\" class=\"dataframe\">\n",
              "  <thead>\n",
              "    <tr style=\"text-align: right;\">\n",
              "      <th></th>\n",
              "      <th>label</th>\n",
              "      <th>CLASS</th>\n",
              "      <th>TEXT</th>\n",
              "    </tr>\n",
              "  </thead>\n",
              "  <tbody>\n",
              "    <tr>\n",
              "      <th>count</th>\n",
              "      <td>11709</td>\n",
              "      <td>11709</td>\n",
              "      <td>11709</td>\n",
              "    </tr>\n",
              "    <tr>\n",
              "      <th>unique</th>\n",
              "      <td>6</td>\n",
              "      <td>47</td>\n",
              "      <td>4124</td>\n",
              "    </tr>\n",
              "    <tr>\n",
              "      <th>top</th>\n",
              "      <td>ENTY</td>\n",
              "      <td>ind</td>\n",
              "      <td>WhatisthespeedoftheMississippiRiver?</td>\n",
              "    </tr>\n",
              "    <tr>\n",
              "      <th>freq</th>\n",
              "      <td>2764</td>\n",
              "      <td>2058</td>\n",
              "      <td>15</td>\n",
              "    </tr>\n",
              "  </tbody>\n",
              "</table>\n",
              "</div>\n",
              "      <button class=\"colab-df-convert\" onclick=\"convertToInteractive('df-6dab667a-afff-4a25-abea-c8285541e2aa')\"\n",
              "              title=\"Convert this dataframe to an interactive table.\"\n",
              "              style=\"display:none;\">\n",
              "        \n",
              "  <svg xmlns=\"http://www.w3.org/2000/svg\" height=\"24px\"viewBox=\"0 0 24 24\"\n",
              "       width=\"24px\">\n",
              "    <path d=\"M0 0h24v24H0V0z\" fill=\"none\"/>\n",
              "    <path d=\"M18.56 5.44l.94 2.06.94-2.06 2.06-.94-2.06-.94-.94-2.06-.94 2.06-2.06.94zm-11 1L8.5 8.5l.94-2.06 2.06-.94-2.06-.94L8.5 2.5l-.94 2.06-2.06.94zm10 10l.94 2.06.94-2.06 2.06-.94-2.06-.94-.94-2.06-.94 2.06-2.06.94z\"/><path d=\"M17.41 7.96l-1.37-1.37c-.4-.4-.92-.59-1.43-.59-.52 0-1.04.2-1.43.59L10.3 9.45l-7.72 7.72c-.78.78-.78 2.05 0 2.83L4 21.41c.39.39.9.59 1.41.59.51 0 1.02-.2 1.41-.59l7.78-7.78 2.81-2.81c.8-.78.8-2.07 0-2.86zM5.41 20L4 18.59l7.72-7.72 1.47 1.35L5.41 20z\"/>\n",
              "  </svg>\n",
              "      </button>\n",
              "      \n",
              "  <style>\n",
              "    .colab-df-container {\n",
              "      display:flex;\n",
              "      flex-wrap:wrap;\n",
              "      gap: 12px;\n",
              "    }\n",
              "\n",
              "    .colab-df-convert {\n",
              "      background-color: #E8F0FE;\n",
              "      border: none;\n",
              "      border-radius: 50%;\n",
              "      cursor: pointer;\n",
              "      display: none;\n",
              "      fill: #1967D2;\n",
              "      height: 32px;\n",
              "      padding: 0 0 0 0;\n",
              "      width: 32px;\n",
              "    }\n",
              "\n",
              "    .colab-df-convert:hover {\n",
              "      background-color: #E2EBFA;\n",
              "      box-shadow: 0px 1px 2px rgba(60, 64, 67, 0.3), 0px 1px 3px 1px rgba(60, 64, 67, 0.15);\n",
              "      fill: #174EA6;\n",
              "    }\n",
              "\n",
              "    [theme=dark] .colab-df-convert {\n",
              "      background-color: #3B4455;\n",
              "      fill: #D2E3FC;\n",
              "    }\n",
              "\n",
              "    [theme=dark] .colab-df-convert:hover {\n",
              "      background-color: #434B5C;\n",
              "      box-shadow: 0px 1px 3px 1px rgba(0, 0, 0, 0.15);\n",
              "      filter: drop-shadow(0px 1px 2px rgba(0, 0, 0, 0.3));\n",
              "      fill: #FFFFFF;\n",
              "    }\n",
              "  </style>\n",
              "\n",
              "      <script>\n",
              "        const buttonEl =\n",
              "          document.querySelector('#df-6dab667a-afff-4a25-abea-c8285541e2aa button.colab-df-convert');\n",
              "        buttonEl.style.display =\n",
              "          google.colab.kernel.accessAllowed ? 'block' : 'none';\n",
              "\n",
              "        async function convertToInteractive(key) {\n",
              "          const element = document.querySelector('#df-6dab667a-afff-4a25-abea-c8285541e2aa');\n",
              "          const dataTable =\n",
              "            await google.colab.kernel.invokeFunction('convertToInteractive',\n",
              "                                                     [key], {});\n",
              "          if (!dataTable) return;\n",
              "\n",
              "          const docLinkHtml = 'Like what you see? Visit the ' +\n",
              "            '<a target=\"_blank\" href=https://colab.research.google.com/notebooks/data_table.ipynb>data table notebook</a>'\n",
              "            + ' to learn more about interactive tables.';\n",
              "          element.innerHTML = '';\n",
              "          dataTable['output_type'] = 'display_data';\n",
              "          await google.colab.output.renderOutput(dataTable, element);\n",
              "          const docLink = document.createElement('div');\n",
              "          docLink.innerHTML = docLinkHtml;\n",
              "          element.appendChild(docLink);\n",
              "        }\n",
              "      </script>\n",
              "    </div>\n",
              "  </div>\n",
              "  "
            ]
          },
          "metadata": {},
          "execution_count": 7
        }
      ],
      "source": [
        "df.describe()"
      ]
    },
    {
      "cell_type": "code",
      "execution_count": 8,
      "id": "0dc71513",
      "metadata": {
        "id": "0dc71513"
      },
      "outputs": [],
      "source": [
        "df.drop([11709],axis=0,inplace=True)"
      ]
    },
    {
      "cell_type": "markdown",
      "id": "f50bddb1",
      "metadata": {
        "id": "f50bddb1"
      },
      "source": [
        "how the questions are labelled (acc. to me) what is the type of answer to that specific question\n",
        "1. DESC- in which we need to give description[ How did serfdom develop in and then leave Russia ] in this question we need to give whole description of how serfdom develp in and then leave russia\n",
        "2. ABBR- in which the answer to give full form [What is the full form of .com] in this we need to give full form of .com\n",
        "3. HUM - in this name or the name of community or of specific person is given as answer[What contemptible scoundrel stole the cork]\n",
        "4. ENTY - some specific entry is answer like currency,name of country or river etc. [What type of currency is used in China]\n",
        "5. NUM- interger or mathematical value is the answer [ What is the temperature today]"
      ]
    },
    {
      "cell_type": "code",
      "execution_count": 9,
      "id": "56008948",
      "metadata": {
        "colab": {
          "base_uri": "https://localhost:8080/"
        },
        "id": "56008948",
        "outputId": "18e123eb-ade5-4599-96ae-6c279aa2b119"
      },
      "outputs": [
        {
          "output_type": "execute_result",
          "data": {
            "text/plain": [
              "label    0\n",
              "CLASS    0\n",
              "TEXT     0\n",
              "dtype: int64"
            ]
          },
          "metadata": {},
          "execution_count": 9
        }
      ],
      "source": [
        "df.isnull().sum()"
      ]
    },
    {
      "cell_type": "code",
      "execution_count": 10,
      "id": "e1528917",
      "metadata": {
        "id": "e1528917"
      },
      "outputs": [],
      "source": [
        "#df.dropna ()"
      ]
    },
    {
      "cell_type": "code",
      "execution_count": 11,
      "id": "471e013d",
      "metadata": {
        "id": "471e013d"
      },
      "outputs": [],
      "source": [
        "#df = df.reset_index(drop = True)"
      ]
    },
    {
      "cell_type": "code",
      "execution_count": 12,
      "id": "bdcd88a4",
      "metadata": {
        "colab": {
          "base_uri": "https://localhost:8080/"
        },
        "id": "bdcd88a4",
        "outputId": "fab9f18e-b877-489f-cb7d-444bb633dc77"
      },
      "outputs": [
        {
          "output_type": "stream",
          "name": "stdout",
          "text": [
            "<class 'pandas.core.frame.DataFrame'>\n",
            "Int64Index: 11709 entries, 0 to 11708\n",
            "Data columns (total 3 columns):\n",
            " #   Column  Non-Null Count  Dtype \n",
            "---  ------  --------------  ----- \n",
            " 0   label   11709 non-null  object\n",
            " 1   CLASS   11709 non-null  object\n",
            " 2   TEXT    11709 non-null  object\n",
            "dtypes: object(3)\n",
            "memory usage: 365.9+ KB\n"
          ]
        }
      ],
      "source": [
        "df.info()"
      ]
    },
    {
      "cell_type": "code",
      "execution_count": 13,
      "id": "d609b5ec",
      "metadata": {
        "colab": {
          "base_uri": "https://localhost:8080/"
        },
        "id": "d609b5ec",
        "outputId": "c377dc60-0781-4609-fbc8-2fb1b0348780"
      },
      "outputs": [
        {
          "output_type": "stream",
          "name": "stdout",
          "text": [
            "<class 'pandas.core.frame.DataFrame'>\n",
            "Int64Index: 11709 entries, 0 to 11708\n",
            "Data columns (total 3 columns):\n",
            " #   Column  Non-Null Count  Dtype \n",
            "---  ------  --------------  ----- \n",
            " 0   label   11709 non-null  object\n",
            " 1   CLASS   11709 non-null  object\n",
            " 2   TEXT    11709 non-null  object\n",
            "dtypes: object(3)\n",
            "memory usage: 365.9+ KB\n"
          ]
        }
      ],
      "source": [
        "df.info()"
      ]
    },
    {
      "cell_type": "markdown",
      "id": "9b47f89e",
      "metadata": {
        "id": "9b47f89e"
      },
      "source": [
        "so,we have no null entries in our dataset,which is superb for us"
      ]
    },
    {
      "cell_type": "code",
      "execution_count": 14,
      "id": "5efe57aa",
      "metadata": {
        "id": "5efe57aa"
      },
      "outputs": [],
      "source": [
        "#separating the data and labels\n",
        "X=df['TEXT'].values"
      ]
    },
    {
      "cell_type": "code",
      "execution_count": 15,
      "id": "4fed759f",
      "metadata": {
        "colab": {
          "base_uri": "https://localhost:8080/"
        },
        "id": "4fed759f",
        "outputId": "b9b630ee-d695-46c0-d586-14c28bf6b079"
      },
      "outputs": [
        {
          "output_type": "stream",
          "name": "stdout",
          "text": [
            "['HowdidserfdomdevelopinandthenleaveRussia?' 'Whatisthefullformof.com?'\n",
            " 'Whatcontemptiblescoundrelstolethecorkfrommylunch?' ...\n",
            " 'Whatisthetemperaturetoday?' 'Whatisthetemperatureforcooking?'\n",
            " 'WhatcurrencyisusedinAustralia?']\n"
          ]
        }
      ],
      "source": [
        "print(X)\n",
        "#so,we don't have labels now"
      ]
    },
    {
      "cell_type": "code",
      "execution_count": 16,
      "id": "c3fce210",
      "metadata": {
        "id": "c3fce210"
      },
      "outputs": [],
      "source": [
        "Y=df[['label','CLASS']].values"
      ]
    },
    {
      "cell_type": "code",
      "execution_count": 17,
      "id": "7325b0ce",
      "metadata": {
        "colab": {
          "base_uri": "https://localhost:8080/"
        },
        "id": "7325b0ce",
        "outputId": "7629d91c-92e2-4f01-cd8c-5048b137ea4d"
      },
      "outputs": [
        {
          "output_type": "stream",
          "name": "stdout",
          "text": [
            "[['DESC' 'manner']\n",
            " ['ABBR' 'exp']\n",
            " ['HUM' 'ind']\n",
            " ...\n",
            " ['NUM' 'temp']\n",
            " ['NUM' 'temp']\n",
            " ['ENTY' 'currency']]\n"
          ]
        }
      ],
      "source": [
        "print(Y)"
      ]
    },
    {
      "cell_type": "markdown",
      "id": "031aa768",
      "metadata": {
        "id": "031aa768"
      },
      "source": [
        "# converting textual data to numerical data"
      ]
    },
    {
      "cell_type": "code",
      "execution_count": 18,
      "id": "15bd5f40",
      "metadata": {
        "id": "15bd5f40"
      },
      "outputs": [],
      "source": [
        "vectorizer = TfidfVectorizer()\n",
        "x =vectorizer.fit_transform(X)"
      ]
    },
    {
      "cell_type": "code",
      "execution_count": 19,
      "id": "ff31f1f7",
      "metadata": {
        "colab": {
          "base_uri": "https://localhost:8080/"
        },
        "id": "ff31f1f7",
        "outputId": "3a9273e4-7c10-4913-9989-afa7036e754b"
      },
      "outputs": [
        {
          "output_type": "stream",
          "name": "stdout",
          "text": [
            "  (0, 540)\t1.0\n",
            "  (1, 267)\t0.6544695475760977\n",
            "  (1, 3574)\t0.7560883620950251\n",
            "  (2, 2679)\t1.0\n",
            "  (3, 3715)\t1.0\n",
            "  (4, 2317)\t1.0\n",
            "  (5, 378)\t0.7071067811865475\n",
            "  (5, 1350)\t0.7071067811865475\n",
            "  (6, 4541)\t1.0\n",
            "  (7, 5300)\t1.0\n",
            "  (8, 5221)\t1.0\n",
            "  (9, 5025)\t1.0\n",
            "  (10, 3323)\t1.0\n",
            "  (11, 1894)\t0.7071067811865475\n",
            "  (11, 4173)\t0.7071067811865475\n",
            "  (12, 842)\t1.0\n",
            "  (13, 3256)\t1.0\n",
            "  (14, 3519)\t1.0\n",
            "  (15, 2455)\t1.0\n",
            "  (16, 1994)\t0.8921642124608429\n",
            "  (16, 2226)\t0.4517112108461821\n",
            "  (17, 1592)\t0.7071067811865475\n",
            "  (17, 3736)\t0.7071067811865475\n",
            "  (18, 2202)\t0.5831437611804862\n",
            "  (18, 1280)\t0.5726624871510853\n",
            "  :\t:\n",
            "  (11690, 3130)\t0.7220753650185889\n",
            "  (11690, 1463)\t0.6918144023025768\n",
            "  (11691, 4164)\t1.0\n",
            "  (11692, 1767)\t0.7071067811865476\n",
            "  (11692, 3010)\t0.7071067811865476\n",
            "  (11693, 2997)\t1.0\n",
            "  (11694, 4033)\t0.7413397025234695\n",
            "  (11694, 1831)\t0.6711299765786161\n",
            "  (11695, 4474)\t1.0\n",
            "  (11696, 755)\t1.0\n",
            "  (11697, 3587)\t1.0\n",
            "  (11698, 5132)\t1.0\n",
            "  (11699, 2319)\t1.0\n",
            "  (11700, 3643)\t0.7413397025234695\n",
            "  (11700, 1082)\t0.6711299765786161\n",
            "  (11701, 4603)\t1.0\n",
            "  (11702, 1108)\t1.0\n",
            "  (11703, 5134)\t1.0\n",
            "  (11704, 1869)\t0.6739797577978436\n",
            "  (11704, 2017)\t0.6739797577978436\n",
            "  (11704, 2226)\t0.3024939208604371\n",
            "  (11705, 4265)\t1.0\n",
            "  (11706, 3805)\t1.0\n",
            "  (11707, 3804)\t1.0\n",
            "  (11708, 2757)\t1.0\n"
          ]
        }
      ],
      "source": [
        "print(x)"
      ]
    },
    {
      "cell_type": "markdown",
      "id": "5066d0a6",
      "metadata": {
        "id": "5066d0a6"
      },
      "source": [
        "# splitting our dataset into training and text data"
      ]
    },
    {
      "cell_type": "code",
      "execution_count": 20,
      "id": "2a20aff3",
      "metadata": {
        "id": "2a20aff3"
      },
      "outputs": [],
      "source": [
        "x_train, x_test, Y_train, Y_test=train_test_split(x,Y,test_size=0.2,stratify=Y,random_state=0)"
      ]
    },
    {
      "cell_type": "markdown",
      "id": "b0bbc6ed",
      "metadata": {
        "id": "b0bbc6ed"
      },
      "source": [
        "# training the model"
      ]
    },
    {
      "cell_type": "code",
      "execution_count": 21,
      "id": "1d4da2d6",
      "metadata": {
        "id": "1d4da2d6"
      },
      "outputs": [],
      "source": [
        "from sklearn.neighbors import KNeighborsClassifier\n",
        "from sklearn.multioutput import MultiOutputClassifier"
      ]
    },
    {
      "cell_type": "code",
      "execution_count": 22,
      "id": "266ceff8",
      "metadata": {
        "id": "266ceff8"
      },
      "outputs": [],
      "source": [
        "knn = KNeighborsClassifier(n_neighbors=3)"
      ]
    },
    {
      "cell_type": "code",
      "execution_count": 23,
      "id": "3f4f2aec",
      "metadata": {
        "id": "3f4f2aec"
      },
      "outputs": [],
      "source": [
        "model = MultiOutputClassifier(knn, n_jobs=-1)\n"
      ]
    },
    {
      "cell_type": "code",
      "execution_count": 24,
      "id": "623ab3ad",
      "metadata": {
        "colab": {
          "base_uri": "https://localhost:8080/"
        },
        "id": "623ab3ad",
        "outputId": "c70cbb6d-86e3-4d2b-edd7-6c49311e7f87"
      },
      "outputs": [
        {
          "output_type": "execute_result",
          "data": {
            "text/plain": [
              "MultiOutputClassifier(estimator=KNeighborsClassifier(n_neighbors=3), n_jobs=-1)"
            ]
          },
          "metadata": {},
          "execution_count": 24
        }
      ],
      "source": [
        "model.fit(x_train,Y_train)"
      ]
    },
    {
      "cell_type": "code",
      "source": [
        "print(model.score(x_train, Y_train))"
      ],
      "metadata": {
        "colab": {
          "base_uri": "https://localhost:8080/"
        },
        "id": "fPDvHScXQoNs",
        "outputId": "1fc34cf2-3cc9-4223-eb66-2cd7e18afa3b"
      },
      "id": "fPDvHScXQoNs",
      "execution_count": 25,
      "outputs": [
        {
          "output_type": "stream",
          "name": "stdout",
          "text": [
            "0.8977260595708337\n"
          ]
        }
      ]
    },
    {
      "cell_type": "code",
      "source": [
        "print(model.score(x_test,Y_test))"
      ],
      "metadata": {
        "colab": {
          "base_uri": "https://localhost:8080/"
        },
        "id": "fdA7kO4ySqf5",
        "outputId": "10841bb8-a002-460c-ad74-7cfe1e38936a"
      },
      "id": "fdA7kO4ySqf5",
      "execution_count": 39,
      "outputs": [
        {
          "output_type": "stream",
          "name": "stdout",
          "text": [
            "0.7181895815542272\n"
          ]
        }
      ]
    },
    {
      "cell_type": "markdown",
      "source": [
        "# EVALUATION OF OUR MODEL"
      ],
      "metadata": {
        "id": "AwrHL-qqOz4b"
      },
      "id": "AwrHL-qqOz4b"
    },
    {
      "cell_type": "markdown",
      "id": "b560eb92",
      "metadata": {
        "id": "b560eb92"
      },
      "source": [
        "accuracy score on the training data"
      ]
    },
    {
      "cell_type": "code",
      "execution_count": 27,
      "id": "29841acb",
      "metadata": {
        "id": "29841acb"
      },
      "outputs": [],
      "source": [
        "#x_train_prediction=model.predict(x_train)\n"
      ]
    },
    {
      "cell_type": "code",
      "source": [
        "#print(model.score(x_train_prediction, Y_train))"
      ],
      "metadata": {
        "id": "v2ajFTa1Q0du"
      },
      "id": "v2ajFTa1Q0du",
      "execution_count": 28,
      "outputs": []
    },
    {
      "cell_type": "code",
      "execution_count": 29,
      "id": "627fe089",
      "metadata": {
        "id": "627fe089"
      },
      "outputs": [],
      "source": [
        "#print(\"accuracy score of traing data:\",training_data_accuracy)\n",
        "#so,we  have got good model accuracy on testing data set"
      ]
    },
    {
      "cell_type": "code",
      "execution_count": 30,
      "id": "a6460473",
      "metadata": {
        "id": "a6460473"
      },
      "outputs": [],
      "source": [
        "#x_test_prediction=model.predict(x_test)\n",
        "#testing_data_accuracy=accuracy_score(x_test_prediction, Y_test)\n",
        "#now,lets check our testing dataset accuracy"
      ]
    },
    {
      "cell_type": "code",
      "source": [
        "#from sklearn.metrics import roc_auc_score\n"
      ],
      "metadata": {
        "id": "xshNQI__QJPa"
      },
      "id": "xshNQI__QJPa",
      "execution_count": 31,
      "outputs": []
    },
    {
      "cell_type": "code",
      "source": [
        "#auc_y1 = roc_auc_score(Y_test[:,0],x_test_prediction[:,0])\n",
        "#auc_y2 = roc_auc_score(Y_test[:,1],x_test_prediction[:,1])\n",
        " \n",
        "#print(\"ROC AUC y1: %.4f, y2: %.4f\" % (auc_y1, auc_y2))"
      ],
      "metadata": {
        "id": "T8Wt1MzfPY4q"
      },
      "id": "T8Wt1MzfPY4q",
      "execution_count": 32,
      "outputs": []
    },
    {
      "cell_type": "code",
      "execution_count": 33,
      "id": "b083de75",
      "metadata": {
        "id": "b083de75"
      },
      "outputs": [],
      "source": [
        "#print(\"accuracy score of testing data:\",testing_data_accuracy)"
      ]
    },
    {
      "cell_type": "code",
      "execution_count": 34,
      "id": "cd25638e",
      "metadata": {
        "id": "cd25638e"
      },
      "outputs": [],
      "source": [
        "#so, we can see that our model is not overfitted and we have also got a good accuracy score"
      ]
    },
    {
      "cell_type": "code",
      "source": [
        ""
      ],
      "metadata": {
        "id": "7nbyOzQUOl9P"
      },
      "id": "7nbyOzQUOl9P",
      "execution_count": 34,
      "outputs": []
    },
    {
      "cell_type": "markdown",
      "id": "04774bc6",
      "metadata": {
        "id": "04774bc6"
      },
      "source": [
        "# make a predictive system"
      ]
    },
    {
      "cell_type": "code",
      "execution_count": 43,
      "id": "5a14af35",
      "metadata": {
        "colab": {
          "base_uri": "https://localhost:8080/"
        },
        "id": "5a14af35",
        "outputId": "0e614c1e-97e9-4e0d-d042-d49c2c49cf94"
      },
      "outputs": [
        {
          "output_type": "stream",
          "name": "stdout",
          "text": [
            "[['DESC' 'desc']]\n"
          ]
        }
      ],
      "source": [
        "X_que = x_test[6]\n",
        "#we will take any datapoint from our test data as our model hasn't seen our test dataset\n",
        "prediction = model.predict(X_que)\n",
        "print(prediction)"
      ]
    },
    {
      "cell_type": "code",
      "execution_count": 44,
      "id": "77168915",
      "metadata": {
        "colab": {
          "base_uri": "https://localhost:8080/"
        },
        "id": "77168915",
        "outputId": "6bb25e3d-5b25-476c-e2ef-0b251e4fb2c4"
      },
      "outputs": [
        {
          "output_type": "stream",
          "name": "stdout",
          "text": [
            "['DESC' 'desc']\n"
          ]
        }
      ],
      "source": [
        "print(Y_test[6])"
      ]
    },
    {
      "cell_type": "code",
      "execution_count": 45,
      "id": "6996a236",
      "metadata": {
        "colab": {
          "base_uri": "https://localhost:8080/"
        },
        "id": "6996a236",
        "outputId": "686199ea-c5a9-4612-c3f7-678bc42502c7"
      },
      "outputs": [
        {
          "output_type": "stream",
          "name": "stdout",
          "text": [
            "[['HUM' 'gr']]\n"
          ]
        }
      ],
      "source": [
        "X_que = x_test[11]\n",
        "prediction = model.predict(X_que)\n",
        "print(prediction)"
      ]
    },
    {
      "cell_type": "code",
      "execution_count": 46,
      "id": "2c659613",
      "metadata": {
        "colab": {
          "base_uri": "https://localhost:8080/"
        },
        "id": "2c659613",
        "outputId": "d0240505-a813-41ef-fb91-0482e70355f7"
      },
      "outputs": [
        {
          "output_type": "stream",
          "name": "stdout",
          "text": [
            "['HUM' 'gr']\n"
          ]
        }
      ],
      "source": [
        "print(Y_test[11])"
      ]
    },
    {
      "cell_type": "markdown",
      "id": "b2ccf25d",
      "metadata": {
        "id": "b2ccf25d"
      },
      "source": [
        "# so,our model has predicted the label of questions correctly"
      ]
    },
    {
      "cell_type": "code",
      "execution_count": 38,
      "id": "233b9b5b",
      "metadata": {
        "id": "233b9b5b"
      },
      "outputs": [],
      "source": [
        ""
      ]
    }
  ],
  "metadata": {
    "kernelspec": {
      "display_name": "Python 3 (ipykernel)",
      "language": "python",
      "name": "python3"
    },
    "language_info": {
      "codemirror_mode": {
        "name": "ipython",
        "version": 3
      },
      "file_extension": ".py",
      "mimetype": "text/x-python",
      "name": "python",
      "nbconvert_exporter": "python",
      "pygments_lexer": "ipython3",
      "version": "3.9.7"
    },
    "colab": {
      "name": "BeH Private Limited Machine Learning internship assignment (2).ipynb",
      "provenance": []
    }
  },
  "nbformat": 4,
  "nbformat_minor": 5
}